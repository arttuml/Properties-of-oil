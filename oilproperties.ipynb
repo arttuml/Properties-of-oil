{
 "cells": [
  {
   "cell_type": "code",
   "execution_count": 9,
   "metadata": {},
   "outputs": [
    {
     "name": "stdout",
     "output_type": "stream",
     "text": [
      "Öljyn ominaisuudet lämpötilassa 3.0 Celsiusta\n",
      "\n",
      "\n",
      "Tiheys (p):                                     897.365 kg/m3\n",
      "\n",
      "Ominaislämpö (Cp):                               1809.6 J/kgK\n",
      "\n",
      "Lämmönjohtokyky (k):                           0.146615 W/mK\n",
      "\n",
      "Lämmönhajonta (a):                          9.03445e-08 m2/s\n",
      "\n",
      "Dynaaminen viskositeetti (u):        3.3675100000000002 kg/ms\n",
      "\n",
      "Kinemaattinen viskositeetti (v):            0.003747135 m2/s\n",
      "\n",
      "Prandtlin luku (Pr):                            41038.0 Pr\n",
      "\n",
      "Lämpölaajenemiskerroin (B):                      0.0007 1/K\n",
      "\n"
     ]
    }
   ],
   "source": [
    "#! python3\n",
    "\n",
    "quantities = ['Tiheys (p): ','Ominaislämpö (Cp): ','Lämmönjohtokyky (k): ','Lämmönhajonta (a): ','Dynaaminen viskositeetti (u): ',\n",
    "           'Kinemaattinen viskositeetti (v): ','Prandtlin luku (Pr): ','Lämpölaajenemiskerroin (B): ']\n",
    "units = [' kg/m3', ' J/kgK', ' W/mK', ' m2/s', ' kg/ms', ' m2/s', ' Pr', ' 1/K']\n",
    "properties ={0:[899.0, 1797, 0.1469, 0.00000009097, 3.814, 0.004242, 46363, 0.00070],   #properties of oil at different temp.\n",
    "            20:[888.1, 1881, 0.1450, 0.00000008680, 0.8374, 0.0009429, 10863, 0.00070],\n",
    "            40:[876.0, 1964, 0.1444, 0.00000008391, 0.2177, 0.0002485, 2962, 0.00070],\n",
    "            60:[863.9, 2048, 0.1404, 0.00000007934, 0.07399, 0.00008565, 1080, 0.00070],\n",
    "            80:[852.0, 2132, 0.1380, 0.00000007599, 0.03232, 0.00003794, 499.3, 0.00070],\n",
    "           100:[840.0, 2220, 0.1367, 0.00000007333, 0.01718, 0.00002046, 279.1, 0.00070],\n",
    "           120:[828.9, 2308, 0.1347, 0.00000007042, 0.01029, 0.00001241, 176.3, 0.00070],\n",
    "           140:[816.8, 2395, 0.1330, 0.00000006798, 0.006558, 0.000008029, 118.1, 0.00070],\n",
    "           150:[810.3, 2441, 0.1327, 0.00000006708, 0.005344, 0.000006595, 98.31, 0.00070]}\n",
    "\n",
    "import sys\n",
    "if len(sys.argv) < 2 or 0 > float(sys.argv[1]) or float(sys.argv[1]) > 150:  #must be two strings and 2. string (temp) between 0-150 \n",
    "    print(\"python oilproperties.py [Lämpötila 0-150 C] -Tulostaa öljyn ominaisuudet kyseisessä lämpötilassa.\")\n",
    "    sys.exit()\n",
    "temp = float(sys.argv[1])\n",
    "\n",
    "for i in range(0,160,20):  #determine which interval  \n",
    "    if 140 <= temp <= 150:\n",
    "        temp_low = 140\n",
    "        temp_hi = 150\n",
    "        break\n",
    "    elif i <= temp < i+20:\n",
    "        temp_low = i\n",
    "        temp_hi = i+20\n",
    "        break\n",
    "\n",
    "set_of_values = [] #interpolated values\n",
    "for i in range(8): #interpolation\n",
    "        value = (temp - temp_low)/(temp_hi - temp_low) * (properties[temp_hi][i]-properties[temp_low][i]) \\\n",
    "        + properties[temp_low][i] \n",
    "        set_of_values.append(value)\n",
    "        \n",
    "print('Öljyn ominaisuudet lämpötilassa ' + str(temp) + ' Celsiusta' + '\\n' + '\\n')\n",
    "for i in range(8):\n",
    "    print(quantities[i] + str(set_of_values[i]).rjust(55-len(quantities[i])) + units[i])\n",
    "    print('')"
   ]
  },
  {
   "cell_type": "code",
   "execution_count": null,
   "metadata": {},
   "outputs": [],
   "source": []
  }
 ],
 "metadata": {
  "kernelspec": {
   "display_name": "Python 3",
   "language": "python",
   "name": "python3"
  },
  "language_info": {
   "codemirror_mode": {
    "name": "ipython",
    "version": 3
   },
   "file_extension": ".py",
   "mimetype": "text/x-python",
   "name": "python",
   "nbconvert_exporter": "python",
   "pygments_lexer": "ipython3",
   "version": "3.7.3"
  }
 },
 "nbformat": 4,
 "nbformat_minor": 2
}
